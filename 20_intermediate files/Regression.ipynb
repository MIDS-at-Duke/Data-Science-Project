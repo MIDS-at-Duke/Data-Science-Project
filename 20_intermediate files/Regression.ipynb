{
 "cells": [
  {
   "cell_type": "code",
   "execution_count": 75,
   "metadata": {},
   "outputs": [],
   "source": [
    "import pandas as pd\n",
    "import numpy as np"
   ]
  },
  {
   "cell_type": "code",
   "execution_count": 76,
   "metadata": {},
   "outputs": [
    {
     "name": "stdout",
     "output_type": "stream",
     "text": [
      "C:\\Users\\home\\Desktop\\class\\IDS 690-02\\mid-term project\\estimating-impact-of-opioid-prescription-regulations-team-1\\20_intermediate_files\n"
     ]
    }
   ],
   "source": [
    "cd C:\\Users\\home\\Desktop\\class\\IDS 690-02\\mid-term project\\estimating-impact-of-opioid-prescription-regulations-team-1\\20_intermediate_files"
   ]
  },
  {
   "cell_type": "code",
   "execution_count": 77,
   "metadata": {},
   "outputs": [],
   "source": [
    "prescriptions = pd.read_csv(\"arcos_grouped_all_FIPS.csv\")"
   ]
  },
  {
   "cell_type": "code",
   "execution_count": 78,
   "metadata": {},
   "outputs": [
    {
     "name": "stdout",
     "output_type": "stream",
     "text": [
      "C:\\Users\\home\\Desktop\\class\\IDS 690-02\\mid-term project\\estimating-impact-of-opioid-prescription-regulations-team-1\\20_intermediate_files\\Merged_Files\n"
     ]
    }
   ],
   "source": [
    "cd C:\\Users\\home\\Desktop\\class\\IDS 690-02\\mid-term project\\estimating-impact-of-opioid-prescription-regulations-team-1\\20_intermediate_files\\Merged_Files"
   ]
  },
  {
   "cell_type": "code",
   "execution_count": 79,
   "metadata": {},
   "outputs": [],
   "source": [
    "merged0 = pd.read_csv('PopMort.csv')"
   ]
  },
  {
   "cell_type": "code",
   "execution_count": 80,
   "metadata": {},
   "outputs": [
    {
     "data": {
      "text/plain": [
       "both          55419\n",
       "right_only        0\n",
       "left_only         0\n",
       "Name: _merge, dtype: int64"
      ]
     },
     "execution_count": 80,
     "metadata": {},
     "output_type": "execute_result"
    }
   ],
   "source": [
    "prescriptions = prescriptions.drop(columns = ['Unnamed: 0','Unnamed: 0.1']) \n",
    "\n",
    "mergedU=pd.merge(merged0,prescriptions,on='FIPS',how='left',validate=\"m:m\", indicator=True)\n",
    "\n",
    "mergedU._merge.value_counts()"
   ]
  },
  {
   "cell_type": "code",
   "execution_count": 81,
   "metadata": {},
   "outputs": [],
   "source": [
    "mergedU.drop(mergedU[mergedU['_merge']=='left_only'].index,inplace=True)"
   ]
  },
  {
   "cell_type": "code",
   "execution_count": 82,
   "metadata": {},
   "outputs": [],
   "source": [
    "mergedU = mergedU.drop(columns = ['_merge']) \n",
    "mergedW=(mergedU[mergedU['STNAME']=='Florida'])"
   ]
  },
  {
   "cell_type": "code",
   "execution_count": 83,
   "metadata": {},
   "outputs": [],
   "source": [
    "mergedW=(mergedU[mergedU['STNAME']=='Florida'])"
   ]
  },
  {
   "cell_type": "code",
   "execution_count": 84,
   "metadata": {},
   "outputs": [],
   "source": [
    "mergedU['DeathsPC']=merged0['Deaths']/(merged0['POPULATION']/10000)"
   ]
  },
  {
   "cell_type": "code",
   "execution_count": 85,
   "metadata": {},
   "outputs": [
    {
     "name": "stderr",
     "output_type": "stream",
     "text": [
      "C:\\ProgramData\\Anaconda3\\lib\\site-packages\\ipykernel_launcher.py:1: SettingWithCopyWarning: \n",
      "A value is trying to be set on a copy of a slice from a DataFrame.\n",
      "Try using .loc[row_indexer,col_indexer] = value instead\n",
      "\n",
      "See the caveats in the documentation: http://pandas.pydata.org/pandas-docs/stable/user_guide/indexing.html#returning-a-view-versus-a-copy\n",
      "  \"\"\"Entry point for launching an IPython kernel.\n",
      "C:\\ProgramData\\Anaconda3\\lib\\site-packages\\ipykernel_launcher.py:2: SettingWithCopyWarning: \n",
      "A value is trying to be set on a copy of a slice from a DataFrame\n",
      "\n",
      "See the caveats in the documentation: http://pandas.pydata.org/pandas-docs/stable/user_guide/indexing.html#returning-a-view-versus-a-copy\n",
      "  \n"
     ]
    }
   ],
   "source": [
    "mergedW['Policy']=0\n",
    "mergedW.Policy[mergedW['Year']>=2010]=1"
   ]
  },
  {
   "cell_type": "code",
   "execution_count": 86,
   "metadata": {},
   "outputs": [
    {
     "name": "stderr",
     "output_type": "stream",
     "text": [
      "C:\\ProgramData\\Anaconda3\\lib\\site-packages\\ipykernel_launcher.py:2: SettingWithCopyWarning: \n",
      "A value is trying to be set on a copy of a slice from a DataFrame\n",
      "\n",
      "See the caveats in the documentation: http://pandas.pydata.org/pandas-docs/stable/user_guide/indexing.html#returning-a-view-versus-a-copy\n",
      "  \n"
     ]
    }
   ],
   "source": [
    "mergedU['Policy']=0\n",
    "mergedU.Policy[mergedU['Year']>=2010]=1\n",
    "mergedU['State'] = [1 if x == 'Florida' else 0 for x in mergedU['STNAME']]"
   ]
  },
  {
   "cell_type": "code",
   "execution_count": 87,
   "metadata": {},
   "outputs": [
    {
     "data": {
      "text/html": [
       "<div>\n",
       "<style scoped>\n",
       "    .dataframe tbody tr th:only-of-type {\n",
       "        vertical-align: middle;\n",
       "    }\n",
       "\n",
       "    .dataframe tbody tr th {\n",
       "        vertical-align: top;\n",
       "    }\n",
       "\n",
       "    .dataframe thead th {\n",
       "        text-align: right;\n",
       "    }\n",
       "</style>\n",
       "<table border=\"1\" class=\"dataframe\">\n",
       "  <thead>\n",
       "    <tr style=\"text-align: right;\">\n",
       "      <th></th>\n",
       "      <th>Year</th>\n",
       "      <th>Deaths</th>\n",
       "      <th>FIPS</th>\n",
       "      <th>STNAME</th>\n",
       "      <th>CTYNAME</th>\n",
       "      <th>POPULATION</th>\n",
       "      <th>STATE</th>\n",
       "      <th>COUNTY</th>\n",
       "      <th>YEAR</th>\n",
       "      <th>MME_Str</th>\n",
       "      <th>DeathsPC</th>\n",
       "      <th>Policy</th>\n",
       "      <th>State</th>\n",
       "    </tr>\n",
       "  </thead>\n",
       "  <tbody>\n",
       "    <tr>\n",
       "      <td>0</td>\n",
       "      <td>2003</td>\n",
       "      <td>11.0</td>\n",
       "      <td>22001</td>\n",
       "      <td>Louisiana</td>\n",
       "      <td>Acadia Parish</td>\n",
       "      <td>59194.0</td>\n",
       "      <td>LA</td>\n",
       "      <td>ACADIA</td>\n",
       "      <td>2006</td>\n",
       "      <td>22401.553115</td>\n",
       "      <td>1.858296</td>\n",
       "      <td>0</td>\n",
       "      <td>0</td>\n",
       "    </tr>\n",
       "    <tr>\n",
       "      <td>1</td>\n",
       "      <td>2003</td>\n",
       "      <td>11.0</td>\n",
       "      <td>22001</td>\n",
       "      <td>Louisiana</td>\n",
       "      <td>Acadia Parish</td>\n",
       "      <td>59194.0</td>\n",
       "      <td>LA</td>\n",
       "      <td>ACADIA</td>\n",
       "      <td>2007</td>\n",
       "      <td>25689.157670</td>\n",
       "      <td>3.863988</td>\n",
       "      <td>0</td>\n",
       "      <td>0</td>\n",
       "    </tr>\n",
       "    <tr>\n",
       "      <td>2</td>\n",
       "      <td>2003</td>\n",
       "      <td>11.0</td>\n",
       "      <td>22001</td>\n",
       "      <td>Louisiana</td>\n",
       "      <td>Acadia Parish</td>\n",
       "      <td>59194.0</td>\n",
       "      <td>LA</td>\n",
       "      <td>ACADIA</td>\n",
       "      <td>2008</td>\n",
       "      <td>24689.478841</td>\n",
       "      <td>3.139354</td>\n",
       "      <td>0</td>\n",
       "      <td>0</td>\n",
       "    </tr>\n",
       "    <tr>\n",
       "      <td>3</td>\n",
       "      <td>2003</td>\n",
       "      <td>11.0</td>\n",
       "      <td>22001</td>\n",
       "      <td>Louisiana</td>\n",
       "      <td>Acadia Parish</td>\n",
       "      <td>59194.0</td>\n",
       "      <td>LA</td>\n",
       "      <td>ACADIA</td>\n",
       "      <td>2009</td>\n",
       "      <td>28592.010975</td>\n",
       "      <td>3.126954</td>\n",
       "      <td>0</td>\n",
       "      <td>0</td>\n",
       "    </tr>\n",
       "    <tr>\n",
       "      <td>4</td>\n",
       "      <td>2003</td>\n",
       "      <td>11.0</td>\n",
       "      <td>22001</td>\n",
       "      <td>Louisiana</td>\n",
       "      <td>Acadia Parish</td>\n",
       "      <td>59194.0</td>\n",
       "      <td>LA</td>\n",
       "      <td>ACADIA</td>\n",
       "      <td>2010</td>\n",
       "      <td>33011.664509</td>\n",
       "      <td>1.790044</td>\n",
       "      <td>0</td>\n",
       "      <td>0</td>\n",
       "    </tr>\n",
       "  </tbody>\n",
       "</table>\n",
       "</div>"
      ],
      "text/plain": [
       "   Year  Deaths   FIPS     STNAME        CTYNAME  POPULATION STATE  COUNTY  \\\n",
       "0  2003    11.0  22001  Louisiana  Acadia Parish     59194.0    LA  ACADIA   \n",
       "1  2003    11.0  22001  Louisiana  Acadia Parish     59194.0    LA  ACADIA   \n",
       "2  2003    11.0  22001  Louisiana  Acadia Parish     59194.0    LA  ACADIA   \n",
       "3  2003    11.0  22001  Louisiana  Acadia Parish     59194.0    LA  ACADIA   \n",
       "4  2003    11.0  22001  Louisiana  Acadia Parish     59194.0    LA  ACADIA   \n",
       "\n",
       "   YEAR       MME_Str  DeathsPC  Policy  State  \n",
       "0  2006  22401.553115  1.858296       0      0  \n",
       "1  2007  25689.157670  3.863988       0      0  \n",
       "2  2008  24689.478841  3.139354       0      0  \n",
       "3  2009  28592.010975  3.126954       0      0  \n",
       "4  2010  33011.664509  1.790044       0      0  "
      ]
     },
     "execution_count": 87,
     "metadata": {},
     "output_type": "execute_result"
    }
   ],
   "source": [
    "mergedU.head()"
   ]
  },
  {
   "cell_type": "code",
   "execution_count": 88,
   "metadata": {},
   "outputs": [],
   "source": [
    "mergedU['Policy:State'] = mergedU['Policy'] * mergedU['State']"
   ]
  },
  {
   "cell_type": "code",
   "execution_count": 89,
   "metadata": {},
   "outputs": [],
   "source": [
    "from plotnine import *\n",
    "import numpy as np\n",
    "import statsmodels.formula.api as smf\n",
    "import statsmodels.api as sm"
   ]
  },
  {
   "cell_type": "code",
   "execution_count": 90,
   "metadata": {},
   "outputs": [
    {
     "name": "stdout",
     "output_type": "stream",
     "text": [
      "                            OLS Regression Results                            \n",
      "==============================================================================\n",
      "Dep. Variable:               DeathsPC   R-squared:                       0.001\n",
      "Model:                            OLS   Adj. R-squared:                  0.001\n",
      "Method:                 Least Squares   F-statistic:                     3.331\n",
      "Date:                Sun, 10 Nov 2019   Prob (F-statistic):             0.0358\n",
      "Time:                        15:14:44   Log-Likelihood:                -11849.\n",
      "No. Observations:                7917   AIC:                         2.370e+04\n",
      "Df Residuals:                    7914   BIC:                         2.373e+04\n",
      "Df Model:                           2                                         \n",
      "Covariance Type:            nonrobust                                         \n",
      "================================================================================\n",
      "                   coef    std err          t      P>|t|      [0.025      0.975]\n",
      "--------------------------------------------------------------------------------\n",
      "Intercept        1.5599      0.018     88.058      0.000       1.525       1.595\n",
      "Policy          -0.0567      0.025     -2.308      0.021      -0.105      -0.009\n",
      "Policy:State     0.1266      0.087      1.457      0.145      -0.044       0.297\n",
      "==============================================================================\n",
      "Omnibus:                     5512.206   Durbin-Watson:                   0.670\n",
      "Prob(Omnibus):                  0.000   Jarque-Bera (JB):           103839.972\n",
      "Skew:                           3.131   Prob(JB):                         0.00\n",
      "Kurtosis:                      19.601   Cond. No.                         8.30\n",
      "==============================================================================\n",
      "\n",
      "Warnings:\n",
      "[1] Standard Errors assume that the covariance matrix of the errors is correctly specified.\n"
     ]
    }
   ],
   "source": [
    "did_Florida = smf.ols('DeathsPC ~  Policy + Policy:State',data = mergedU).fit()\n",
    "print(did_Florida.summary())"
   ]
  },
  {
   "cell_type": "code",
   "execution_count": 91,
   "metadata": {},
   "outputs": [],
   "source": [
    "mergedU['adj_year'] = mergedU['Year'] - 2010\n",
    "mergedU['Policy:adj_year'] = mergedU['Policy'] * mergedU['adj_year']\n",
    "mergedU['State:adj_year'] = mergedU['State'] * mergedU['adj_year']\n",
    "mergedU['Policy:State:adj_year'] = mergedU['Policy'] * mergedU['State'] * mergedU['adj_year']"
   ]
  },
  {
   "cell_type": "code",
   "execution_count": 92,
   "metadata": {},
   "outputs": [
    {
     "name": "stdout",
     "output_type": "stream",
     "text": [
      "                            OLS Regression Results                            \n",
      "==============================================================================\n",
      "Dep. Variable:               DeathsPC   R-squared:                       0.004\n",
      "Model:                            OLS   Adj. R-squared:                  0.003\n",
      "Method:                 Least Squares   F-statistic:                     5.061\n",
      "Date:                Sun, 10 Nov 2019   Prob (F-statistic):           3.42e-05\n",
      "Time:                        15:14:45   Log-Likelihood:                -11837.\n",
      "No. Observations:                7917   AIC:                         2.369e+04\n",
      "Df Residuals:                    7910   BIC:                         2.374e+04\n",
      "Df Model:                           6                                         \n",
      "Covariance Type:            nonrobust                                         \n",
      "=========================================================================================\n",
      "                            coef    std err          t      P>|t|      [0.025      0.975]\n",
      "-----------------------------------------------------------------------------------------\n",
      "Intercept                 1.6393      0.038     43.432      0.000       1.565       1.713\n",
      "adj_year                  0.0186      0.009      2.049      0.041       0.001       0.036\n",
      "Policy                   -0.0946      0.049     -1.945      0.052      -0.190       0.001\n",
      "Policy:State              0.3842      0.156      2.460      0.014       0.078       0.690\n",
      "Policy:adj_year          -0.0347      0.013     -2.582      0.010      -0.061      -0.008\n",
      "State:adj_year            0.0588      0.019      3.071      0.002       0.021       0.096\n",
      "Policy:State:adj_year    -0.1593      0.054     -2.944      0.003      -0.265      -0.053\n",
      "==============================================================================\n",
      "Omnibus:                     5491.417   Durbin-Watson:                   0.672\n",
      "Prob(Omnibus):                  0.000   Jarque-Bera (JB):           102512.515\n",
      "Skew:                           3.117   Prob(JB):                         0.00\n",
      "Kurtosis:                      19.489   Cond. No.                         53.4\n",
      "==============================================================================\n",
      "\n",
      "Warnings:\n",
      "[1] Standard Errors assume that the covariance matrix of the errors is correctly specified.\n"
     ]
    }
   ],
   "source": [
    "did2_Florida = smf.ols('DeathsPC ~  adj_year + Policy + Policy:State + Policy:adj_year + State:adj_year + Policy:State:adj_year',data = mergedU).fit()\n",
    "print(did2_Florida.summary())"
   ]
  },
  {
   "cell_type": "code",
   "execution_count": 93,
   "metadata": {},
   "outputs": [
    {
     "name": "stderr",
     "output_type": "stream",
     "text": [
      "C:\\ProgramData\\Anaconda3\\lib\\site-packages\\ipykernel_launcher.py:2: SettingWithCopyWarning: \n",
      "A value is trying to be set on a copy of a slice from a DataFrame\n",
      "\n",
      "See the caveats in the documentation: http://pandas.pydata.org/pandas-docs/stable/user_guide/indexing.html#returning-a-view-versus-a-copy\n",
      "  \n"
     ]
    }
   ],
   "source": [
    "mergedU['Policy_T']=0\n",
    "mergedU.Policy_T[mergedU['Year']>=2007]=1\n",
    "mergedU['State_T'] = [1 if x == 'Texas' else 0 for x in mergedU['STNAME']]"
   ]
  },
  {
   "cell_type": "code",
   "execution_count": 94,
   "metadata": {},
   "outputs": [
    {
     "name": "stdout",
     "output_type": "stream",
     "text": [
      "                            OLS Regression Results                            \n",
      "==============================================================================\n",
      "Dep. Variable:               DeathsPC   R-squared:                       0.004\n",
      "Model:                            OLS   Adj. R-squared:                  0.003\n",
      "Method:                 Least Squares   F-statistic:                     14.29\n",
      "Date:                Sun, 10 Nov 2019   Prob (F-statistic):           6.40e-07\n",
      "Time:                        15:19:18   Log-Likelihood:                -11838.\n",
      "No. Observations:                7917   AIC:                         2.368e+04\n",
      "Df Residuals:                    7914   BIC:                         2.370e+04\n",
      "Df Model:                           2                                         \n",
      "Covariance Type:            nonrobust                                         \n",
      "====================================================================================\n",
      "                       coef    std err          t      P>|t|      [0.025      0.975]\n",
      "------------------------------------------------------------------------------------\n",
      "Intercept            1.5137      0.025     60.731      0.000       1.465       1.563\n",
      "Policy_T             0.0087      0.029      0.302      0.763      -0.048       0.065\n",
      "Policy_T:State_T     0.3528      0.067      5.276      0.000       0.222       0.484\n",
      "==============================================================================\n",
      "Omnibus:                     5512.832   Durbin-Watson:                   0.672\n",
      "Prob(Omnibus):                  0.000   Jarque-Bera (JB):           104455.185\n",
      "Skew:                           3.129   Prob(JB):                         0.00\n",
      "Kurtosis:                      19.658   Cond. No.                         7.10\n",
      "==============================================================================\n",
      "\n",
      "Warnings:\n",
      "[1] Standard Errors assume that the covariance matrix of the errors is correctly specified.\n"
     ]
    }
   ],
   "source": [
    "mergedU['Policy_T:State_T'] = mergedU['Policy_T'] * mergedU['State_T']\n",
    "did_Texas = smf.ols('DeathsPC ~  Policy_T + Policy_T:State_T',data = mergedU).fit()\n",
    "print(did_Texas.summary())"
   ]
  },
  {
   "cell_type": "code",
   "execution_count": 95,
   "metadata": {},
   "outputs": [],
   "source": [
    "mergedU['adj_year_T'] = mergedU['Year'] - 2007\n",
    "mergedU['Policy_T:adj_year_T'] = mergedU['Policy_T'] * mergedU['adj_year_T']\n",
    "mergedU['State_T:adj_year_T'] = mergedU['State_T'] * mergedU['adj_year_T']\n",
    "mergedU['Policy_T:State_T:adj_year_T'] = mergedU['Policy_T'] * mergedU['State_T'] * mergedU['adj_year_T']"
   ]
  },
  {
   "cell_type": "code",
   "execution_count": 96,
   "metadata": {},
   "outputs": [
    {
     "name": "stdout",
     "output_type": "stream",
     "text": [
      "                            OLS Regression Results                            \n",
      "==============================================================================\n",
      "Dep. Variable:               DeathsPC   R-squared:                       0.008\n",
      "Model:                            OLS   Adj. R-squared:                  0.007\n",
      "Method:                 Least Squares   F-statistic:                     10.02\n",
      "Date:                Sun, 10 Nov 2019   Prob (F-statistic):           4.70e-11\n",
      "Time:                        15:21:31   Log-Likelihood:                -11823.\n",
      "No. Observations:                7917   AIC:                         2.366e+04\n",
      "Df Residuals:                    7910   BIC:                         2.371e+04\n",
      "Df Model:                           6                                         \n",
      "Covariance Type:            nonrobust                                         \n",
      "===============================================================================================\n",
      "                                  coef    std err          t      P>|t|      [0.025      0.975]\n",
      "-----------------------------------------------------------------------------------------------\n",
      "Intercept                       1.5175      0.060     25.475      0.000       1.401       1.634\n",
      "adj_year_T                     -0.0048      0.023     -0.214      0.831      -0.049       0.039\n",
      "Policy_T                        0.0703      0.065      1.074      0.283      -0.058       0.199\n",
      "Policy_T:State_T                0.6792      0.122      5.551      0.000       0.439       0.919\n",
      "Policy_T:adj_year_T            -0.0108      0.023     -0.467      0.640      -0.056       0.035\n",
      "State_T:adj_year_T              0.1252      0.044      2.828      0.005       0.038       0.212\n",
      "Policy_T:State_T:adj_year_T    -0.2076      0.051     -4.060      0.000      -0.308      -0.107\n",
      "==============================================================================\n",
      "Omnibus:                     5509.892   Durbin-Watson:                   0.674\n",
      "Prob(Omnibus):                  0.000   Jarque-Bera (JB):           104728.294\n",
      "Skew:                           3.125   Prob(JB):                         0.00\n",
      "Kurtosis:                      19.686   Cond. No.                         64.1\n",
      "==============================================================================\n",
      "\n",
      "Warnings:\n",
      "[1] Standard Errors assume that the covariance matrix of the errors is correctly specified.\n"
     ]
    }
   ],
   "source": [
    "did2_Texas = smf.ols('DeathsPC ~  adj_year_T + Policy_T + Policy_T:State_T + Policy_T:adj_year_T + State_T:adj_year_T + Policy_T:State_T:adj_year_T',data = mergedU).fit()\n",
    "print(did2_Texas.summary())"
   ]
  },
  {
   "cell_type": "code",
   "execution_count": 97,
   "metadata": {},
   "outputs": [
    {
     "name": "stderr",
     "output_type": "stream",
     "text": [
      "C:\\ProgramData\\Anaconda3\\lib\\site-packages\\ipykernel_launcher.py:2: SettingWithCopyWarning: \n",
      "A value is trying to be set on a copy of a slice from a DataFrame\n",
      "\n",
      "See the caveats in the documentation: http://pandas.pydata.org/pandas-docs/stable/user_guide/indexing.html#returning-a-view-versus-a-copy\n",
      "  \n"
     ]
    }
   ],
   "source": [
    "mergedU['Policy_W']=0\n",
    "mergedU.Policy_W[mergedU['Year']>=2012]=1\n",
    "mergedU['State_W'] = [1 if x == 'Washington' else 0 for x in mergedU['STNAME']]"
   ]
  },
  {
   "cell_type": "code",
   "execution_count": 98,
   "metadata": {},
   "outputs": [
    {
     "name": "stdout",
     "output_type": "stream",
     "text": [
      "                            OLS Regression Results                            \n",
      "==============================================================================\n",
      "Dep. Variable:               DeathsPC   R-squared:                       0.002\n",
      "Model:                            OLS   Adj. R-squared:                  0.002\n",
      "Method:                 Least Squares   F-statistic:                     7.009\n",
      "Date:                Sun, 10 Nov 2019   Prob (F-statistic):           0.000910\n",
      "Time:                        15:23:21   Log-Likelihood:                -11846.\n",
      "No. Observations:                7917   AIC:                         2.370e+04\n",
      "Df Residuals:                    7914   BIC:                         2.372e+04\n",
      "Df Model:                           2                                         \n",
      "Covariance Type:            nonrobust                                         \n",
      "====================================================================================\n",
      "                       coef    std err          t      P>|t|      [0.025      0.975]\n",
      "------------------------------------------------------------------------------------\n",
      "Intercept            1.5592      0.015    102.935      0.000       1.529       1.589\n",
      "Policy_W            -0.0700      0.025     -2.755      0.006      -0.120      -0.020\n",
      "Policy_W:State_W    -0.4735      0.205     -2.307      0.021      -0.876      -0.071\n",
      "==============================================================================\n",
      "Omnibus:                     5516.906   Durbin-Watson:                   0.670\n",
      "Prob(Omnibus):                  0.000   Jarque-Bera (JB):           103895.247\n",
      "Skew:                           3.135   Prob(JB):                         0.00\n",
      "Kurtosis:                      19.603   Cond. No.                         18.2\n",
      "==============================================================================\n",
      "\n",
      "Warnings:\n",
      "[1] Standard Errors assume that the covariance matrix of the errors is correctly specified.\n"
     ]
    }
   ],
   "source": [
    "mergedU['Policy_W:State_W'] = mergedU['Policy_W'] * mergedU['State_W']\n",
    "did_Washington = smf.ols('DeathsPC ~  Policy_W + Policy_W:State_W',data = mergedU).fit()\n",
    "print(did_Washington.summary())"
   ]
  },
  {
   "cell_type": "code",
   "execution_count": 99,
   "metadata": {},
   "outputs": [],
   "source": [
    "mergedU['adj_year_W'] = mergedU['Year'] - 2012\n",
    "mergedU['Policy_W:adj_year_W'] = mergedU['Policy_W'] * mergedU['adj_year_W']\n",
    "mergedU['State_W:adj_year_W'] = mergedU['State_W'] * mergedU['adj_year_W']\n",
    "mergedU['Policy_W:State_W:adj_year_W'] = mergedU['Policy_W'] * mergedU['State_W'] * mergedU['adj_year_W']"
   ]
  },
  {
   "cell_type": "code",
   "execution_count": 100,
   "metadata": {},
   "outputs": [
    {
     "name": "stdout",
     "output_type": "stream",
     "text": [
      "                            OLS Regression Results                            \n",
      "==============================================================================\n",
      "Dep. Variable:               DeathsPC   R-squared:                       0.003\n",
      "Model:                            OLS   Adj. R-squared:                  0.002\n",
      "Method:                 Least Squares   F-statistic:                     4.241\n",
      "Date:                Sun, 10 Nov 2019   Prob (F-statistic):           0.000287\n",
      "Time:                        15:25:12   Log-Likelihood:                -11840.\n",
      "No. Observations:                7917   AIC:                         2.369e+04\n",
      "Df Residuals:                    7910   BIC:                         2.374e+04\n",
      "Df Model:                           6                                         \n",
      "Covariance Type:            nonrobust                                         \n",
      "===============================================================================================\n",
      "                                  coef    std err          t      P>|t|      [0.025      0.975]\n",
      "-----------------------------------------------------------------------------------------------\n",
      "Intercept                       1.5951      0.031     51.041      0.000       1.534       1.656\n",
      "adj_year_W                      0.0069      0.006      1.157      0.247      -0.005       0.019\n",
      "Policy_W                       -0.1021      0.047     -2.167      0.030      -0.194      -0.010\n",
      "Policy_W:State_W               -0.8421      0.343     -2.453      0.014      -1.515      -0.169\n",
      "Policy_W:adj_year_W            -0.0094      0.019     -0.486      0.627      -0.047       0.029\n",
      "State_W:adj_year_W              0.0680      0.024      2.792      0.005       0.020       0.116\n",
      "Policy_W:State_W:adj_year_W     0.1776      0.185      0.960      0.337      -0.185       0.540\n",
      "==============================================================================\n",
      "Omnibus:                     5514.488   Durbin-Watson:                   0.671\n",
      "Prob(Omnibus):                  0.000   Jarque-Bera (JB):           103743.276\n",
      "Skew:                           3.133   Prob(JB):                         0.00\n",
      "Kurtosis:                      19.590   Cond. No.                         136.\n",
      "==============================================================================\n",
      "\n",
      "Warnings:\n",
      "[1] Standard Errors assume that the covariance matrix of the errors is correctly specified.\n"
     ]
    }
   ],
   "source": [
    "did2_Washington = smf.ols('DeathsPC ~  adj_year_W + Policy_W + Policy_W:State_W + Policy_W:adj_year_W + State_W:adj_year_W + Policy_W:State_W:adj_year_W',data = mergedU).fit()\n",
    "print(did2_Washington.summary())"
   ]
  },
  {
   "cell_type": "code",
   "execution_count": 101,
   "metadata": {},
   "outputs": [],
   "source": [
    "mergedU['PrescribePC']=mergedU['MME_Str']/(mergedU['POPULATION'])"
   ]
  },
  {
   "cell_type": "code",
   "execution_count": 103,
   "metadata": {},
   "outputs": [
    {
     "name": "stdout",
     "output_type": "stream",
     "text": [
      "                            OLS Regression Results                            \n",
      "==============================================================================\n",
      "Dep. Variable:            PrescribePC   R-squared:                       0.019\n",
      "Model:                            OLS   Adj. R-squared:                  0.019\n",
      "Method:                 Least Squares   F-statistic:                     543.2\n",
      "Date:                Sun, 10 Nov 2019   Prob (F-statistic):          2.34e-234\n",
      "Time:                        15:30:47   Log-Likelihood:                -5490.0\n",
      "No. Observations:               55419   AIC:                         1.099e+04\n",
      "Df Residuals:                   55416   BIC:                         1.101e+04\n",
      "Df Model:                           2                                         \n",
      "Covariance Type:            nonrobust                                         \n",
      "================================================================================\n",
      "                   coef    std err          t      P>|t|      [0.025      0.975]\n",
      "--------------------------------------------------------------------------------\n",
      "Intercept        0.4417      0.002    263.774      0.000       0.438       0.445\n",
      "Policy          -0.0319      0.002    -13.850      0.000      -0.036      -0.027\n",
      "Policy:State     0.2216      0.007     31.703      0.000       0.208       0.235\n",
      "==============================================================================\n",
      "Omnibus:                    28868.651   Durbin-Watson:                   0.265\n",
      "Prob(Omnibus):                  0.000   Jarque-Bera (JB):           249011.523\n",
      "Skew:                           2.370   Prob(JB):                         0.00\n",
      "Kurtosis:                      12.240   Cond. No.                         7.19\n",
      "==============================================================================\n",
      "\n",
      "Warnings:\n",
      "[1] Standard Errors assume that the covariance matrix of the errors is correctly specified.\n"
     ]
    }
   ],
   "source": [
    "did_Florida_Pre= smf.ols('PrescribePC ~  Policy + Policy:State',data = mergedU).fit()\n",
    "print(did_Florida_Pre.summary())"
   ]
  },
  {
   "cell_type": "code",
   "execution_count": 104,
   "metadata": {},
   "outputs": [
    {
     "name": "stdout",
     "output_type": "stream",
     "text": [
      "                            OLS Regression Results                            \n",
      "==============================================================================\n",
      "Dep. Variable:            PrescribePC   R-squared:                       0.043\n",
      "Model:                            OLS   Adj. R-squared:                  0.043\n",
      "Method:                 Least Squares   F-statistic:                     417.3\n",
      "Date:                Sun, 10 Nov 2019   Prob (F-statistic):               0.00\n",
      "Time:                        15:31:34   Log-Likelihood:                -4803.3\n",
      "No. Observations:               55419   AIC:                             9621.\n",
      "Df Residuals:                   55412   BIC:                             9683.\n",
      "Df Model:                           6                                         \n",
      "Covariance Type:            nonrobust                                         \n",
      "=========================================================================================\n",
      "                            coef    std err          t      P>|t|      [0.025      0.975]\n",
      "-----------------------------------------------------------------------------------------\n",
      "Intercept                 0.4231      0.004    119.062      0.000       0.416       0.430\n",
      "adj_year                 -0.0012      0.001     -1.394      0.163      -0.003       0.000\n",
      "Policy                    0.0001      0.005      0.029      0.977      -0.009       0.009\n",
      "Policy:State              0.2413      0.012     19.716      0.000       0.217       0.265\n",
      "Policy:adj_year          -0.0040      0.001     -3.181      0.001      -0.006      -0.002\n",
      "State:adj_year           -0.0544      0.002    -36.069      0.000      -0.057      -0.051\n",
      "Policy:State:adj_year     0.0463      0.004     10.775      0.000       0.038       0.055\n",
      "==============================================================================\n",
      "Omnibus:                    28815.198   Durbin-Watson:                   0.272\n",
      "Prob(Omnibus):                  0.000   Jarque-Bera (JB):           253345.452\n",
      "Skew:                           2.356   Prob(JB):                         0.00\n",
      "Kurtosis:                      12.355   Cond. No.                         45.9\n",
      "==============================================================================\n",
      "\n",
      "Warnings:\n",
      "[1] Standard Errors assume that the covariance matrix of the errors is correctly specified.\n"
     ]
    }
   ],
   "source": [
    "did2_Florida_Pre = smf.ols('PrescribePC ~  adj_year + Policy + Policy:State + Policy:adj_year + State:adj_year + Policy:State:adj_year',data = mergedU).fit()\n",
    "print(did2_Florida_Pre.summary())"
   ]
  },
  {
   "cell_type": "code",
   "execution_count": null,
   "metadata": {},
   "outputs": [],
   "source": []
  }
 ],
 "metadata": {
  "kernelspec": {
   "display_name": "Python 3",
   "language": "python",
   "name": "python3"
  },
  "language_info": {
   "codemirror_mode": {
    "name": "ipython",
    "version": 3
   },
   "file_extension": ".py",
   "mimetype": "text/x-python",
   "name": "python",
   "nbconvert_exporter": "python",
   "pygments_lexer": "ipython3",
   "version": "3.7.3"
  }
 },
 "nbformat": 4,
 "nbformat_minor": 4
}
